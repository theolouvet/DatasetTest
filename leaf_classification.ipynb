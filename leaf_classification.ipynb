{
  "nbformat": 4,
  "nbformat_minor": 0,
  "metadata": {
    "colab": {
      "name": "leaf_classification.ipynb",
      "provenance": [],
      "collapsed_sections": [],
      "include_colab_link": true
    },
    "kernelspec": {
      "name": "python3",
      "display_name": "Python 3"
    }
  },
  "cells": [
    {
      "cell_type": "markdown",
      "metadata": {
        "id": "view-in-github",
        "colab_type": "text"
      },
      "source": [
        "<a href=\"https://colab.research.google.com/github/theolouvet/DatasetTest/blob/master/leaf_classification.ipynb\" target=\"_parent\"><img src=\"https://colab.research.google.com/assets/colab-badge.svg\" alt=\"Open In Colab\"/></a>"
      ]
    },
    {
      "cell_type": "code",
      "metadata": {
        "id": "JfwQmNjLP6Yr"
      },
      "source": [
        "import pandas as pd\n",
        "from zipfile import ZipFile\n",
        "import io\n",
        "import cv2 \n",
        "from google.colab import files\n",
        "import matplotlib as mpl\n",
        "import matplotlib.pyplot as plt\n",
        "from pylab import *\n",
        "#from sklearn.datasets import fetch_mldata\n",
        "#from sklearn.datasets import fetch_openml\n",
        "from sklearn.cluster import KMeans\n",
        "from sklearn import svm  \n",
        "from sklearn import datasets  , metrics\n",
        "import numpy as np\n",
        "from sklearn.feature_extraction import DictVectorizer\n",
        "from sklearn.model_selection import GridSearchCV\n",
        "from PIL import Image\n",
        "from io import BytesIO\n",
        "from sklearn.model_selection import validation_curve"
      ],
      "execution_count": null,
      "outputs": []
    },
    {
      "cell_type": "markdown",
      "metadata": {
        "id": "CBAZWHyKSJPY"
      },
      "source": [
        "Ouverture de l'archive contenant les datas et le csv"
      ]
    },
    {
      "cell_type": "code",
      "metadata": {
        "id": "UtiKfNF-RIdP",
        "colab": {
          "base_uri": "https://localhost:8080/",
          "height": 35
        },
        "outputId": "aefd1135-e16e-4ab5-ac72-4cb5916a7a7d"
      },
      "source": [
        "#file_name = \"Output_seuillage.zip\"\n",
        "file_name = \"New_seuillage_5_species.zip\"\n",
        "#file_name = \"Seuillage_full_species.zip\"\n",
        "#path_csv = '/content/Output_seuillage/small_training_dataset.csv'\n",
        "\n",
        "path_csv = '/content/Seuillage/train_dataset_5_species_new_seuillage.csv'\n",
        "with ZipFile(file_name, 'r') as zip:\n",
        "  zip.extractall();\n",
        "  print('done')\n",
        "csv = pd.read_csv(path_csv)\n",
        "csv.columns = [c.replace(' ', '_') for c in csv.columns]\n"
      ],
      "execution_count": null,
      "outputs": [
        {
          "output_type": "stream",
          "text": [
            "done\n"
          ],
          "name": "stdout"
        }
      ]
    },
    {
      "cell_type": "code",
      "metadata": {
        "id": "VPh3hLTYfYWa",
        "colab": {
          "base_uri": "https://localhost:8080/",
          "height": 91
        },
        "outputId": "8e137261-c7b0-4619-b0ff-e80b0265331a"
      },
      "source": [
        "categories = {}\n",
        "for row in csv.species.values:\n",
        "      if row not in categories:\n",
        "        categories[row] = 0\n",
        "nb_categories = len(categories)\n",
        "values = np.linspace(0.0, 1.0, num= nb_categories)\n",
        "\n",
        "print(len(values))\n",
        "print(nb_categories) \n",
        "i = 0\n",
        "for v in categories:\n",
        "  categories[v] = i\n",
        "  i = i+1\n",
        "print(categories)"
      ],
      "execution_count": null,
      "outputs": [
        {
          "output_type": "stream",
          "text": [
            "5\n",
            "5\n",
            "{'Aesculus hippocastanum': 0, 'Populus nigra': 1, 'Viburnum tinus': 2, 'Corylus avellana': 3, 'Syringa vulgaris': 4}\n"
          ],
          "name": "stdout"
        }
      ]
    },
    {
      "cell_type": "markdown",
      "metadata": {
        "id": "PqZbZU1-SSq0"
      },
      "source": [
        "Construction de X (data) et Y (Target)"
      ]
    },
    {
      "cell_type": "code",
      "metadata": {
        "id": "5OHybo2uRMJ9",
        "colab": {
          "base_uri": "https://localhost:8080/",
          "height": 71
        },
        "outputId": "6a616a95-cf2e-45f3-ed26-88d352c5ccbe"
      },
      "source": [
        "#folder = '/content/Output_seuillage/'\n",
        "folder = \"/content/Seuillage/\"\n",
        "formatimage = \".jpg\"\n",
        "\n",
        "\n",
        "\n",
        "test_file = folder + str(csv.loc[0,'ID']) + formatimage\n",
        "shap = csv.shape;\n",
        "Nb_data = shap[0];\n",
        "Nb_data_train = 500 \n",
        "Nb_data_test = Nb_data \n",
        "print(Nb_data)\n",
        "print(Nb_data_test)\n",
        "X = []\n",
        "Y = []\n",
        "s0 = 0\n",
        "for raw in range(0,Nb_data):\n",
        "  imfile = r'{}'.format(folder +str(csv.loc[raw,'ID']) + formatimage)\n",
        "  #imfile = folder + r'10152.jpg'\n",
        "  im = cv2.imread(imfile, 0)\n",
        "  \n",
        "\n",
        "  im = im/ 255.\n",
        "  n = size(im)\n",
        "  if s0<n:\n",
        "    s0 = n\n",
        "print(s0)\n",
        "#cv2.imread(r'/content/Output_seuillage/21288.jpg')\n",
        "for raw in range(0,Nb_data):\n",
        "  imfile = folder + str(csv.loc[raw,'ID'])+formatimage\n",
        "  \n",
        "  im = cv2.imread(imfile, 0)\n",
        "  im = im/ 255.\n",
        " \n",
        "  #im = cv2.resize(im, (784,1))\n",
        "  arr = np.array(im)\n",
        "  flat = arr.ravel()\n",
        "  vector = np.matrix(flat)\n",
        "  if size(flat) < s0:\n",
        "    A = np.zeros(s0 - size(flat))\n",
        "    flat = np.append(flat, A.ravel())\n",
        "  if s0 < size(flat):\n",
        "    flat = flat[:s0]\n",
        "  X.append(flat)\n",
        "\n",
        "  \n",
        "  specie = str(csv.loc[raw,'species'])\n",
        "  '''\n",
        "  if specie == \"Syringa vulgaris\":\n",
        "    Y.append(int(1))\n",
        "  else:\n",
        "    Y.append(int(0))\n",
        "  '''\n",
        "  Y.append(categories[specie]) \n",
        "     "
      ],
      "execution_count": null,
      "outputs": [
        {
          "output_type": "stream",
          "text": [
            "675\n",
            "675\n",
            "1000\n"
          ],
          "name": "stdout"
        }
      ]
    },
    {
      "cell_type": "markdown",
      "metadata": {
        "id": "2y1HocQZScAJ"
      },
      "source": [
        "Utilisation d'un modèle et construction de la courbe de validation "
      ]
    },
    {
      "cell_type": "code",
      "metadata": {
        "id": "ut4GPNxhRdIK",
        "colab": {
          "base_uri": "https://localhost:8080/",
          "height": 832
        },
        "outputId": "64fe4eba-57e2-4587-bf37-2f170480b76b"
      },
      "source": [
        "print(Y[:10])\n",
        "x_train = X[:Nb_data_train]\n",
        "y_train = Y[:Nb_data_train]\n",
        "print(len(x_train))\n",
        "x_test = X[Nb_data_train:Nb_data_test]\n",
        "y_test = Y[Nb_data_train:Nb_data_test]\n",
        "print(len(x_test))\n",
        "svc = svm.SVC(kernel = 'rbf', C = 1).fit(x_train, y_train)\n",
        "\n",
        "predicted = svc.predict(x_test)\n",
        "print(\"test \" + \"\\n\")\n",
        "print(\"Classification report for classifier %s:\\n%s\\n\"\n",
        "    % (svc, metrics.classification_report(y_test, predicted)))\n",
        "disp = metrics.plot_confusion_matrix(svc, x_test, y_test)\n",
        "disp.figure_.suptitle(\"Confusion Matrix\")\n",
        "print(\"Confusion matrix:\\n%s\" % disp.confusion_matrix)\n",
        "\n",
        "plt.show()\n",
        "param_range = np.logspace(-6,-1,5)\n",
        "train_scores, test_scores = validation_curve(svm.SVC(), x_train, y_train, param_name=\"gamma\", param_range=param_range, cv=5, scoring=\"accuracy\", n_jobs=1)\n"
      ],
      "execution_count": null,
      "outputs": [
        {
          "output_type": "stream",
          "text": [
            "[0, 1, 2, 3, 1, 3, 0, 2, 1, 2]\n",
            "500\n",
            "175\n",
            "test \n",
            "\n",
            "Classification report for classifier SVC(C=1, break_ties=False, cache_size=200, class_weight=None, coef0=0.0,\n",
            "    decision_function_shape='ovr', degree=3, gamma='scale', kernel='rbf',\n",
            "    max_iter=-1, probability=False, random_state=None, shrinking=True,\n",
            "    tol=0.001, verbose=False):\n",
            "              precision    recall  f1-score   support\n",
            "\n",
            "           0       1.00      0.50      0.67        12\n",
            "           1       0.89      0.98      0.93        55\n",
            "           2       0.87      0.91      0.89        43\n",
            "           3       0.86      0.82      0.84        39\n",
            "           4       0.81      0.81      0.81        26\n",
            "\n",
            "    accuracy                           0.87       175\n",
            "   macro avg       0.88      0.80      0.83       175\n",
            "weighted avg       0.87      0.87      0.86       175\n",
            "\n",
            "\n",
            "Confusion matrix:\n",
            "[[ 6  2  2  1  1]\n",
            " [ 0 54  0  0  1]\n",
            " [ 0  0 39  4  0]\n",
            " [ 0  2  2 32  3]\n",
            " [ 0  3  2  0 21]]\n"
          ],
          "name": "stdout"
        },
        {
          "output_type": "display_data",
          "data": {
            "image/png": "[encoded data removed]",
            "text/plain": [
              "<Figure size 432x288 with 2 Axes>"
            ]
          },
          "metadata": {
            "tags": []
          }
        }
      ]
    },
    {
      "cell_type": "markdown",
      "metadata": {
        "id": "AmA4vi7LSlnz"
      },
      "source": [
        "Affichage de la courbe de validation"
      ]
    },
    {
      "cell_type": "code",
      "metadata": {
        "id": "b_-SaJysRsGt",
        "colab": {
          "base_uri": "https://localhost:8080/",
          "height": 301
        },
        "outputId": "98019b46-f274-4acf-b762-d278fb82848e"
      },
      "source": [
        "train_scores_mean = np.mean(train_scores, axis=1)\n",
        "train_scores_std = np.std(train_scores, axis=1)\n",
        "test_scores_mean = np.mean(test_scores, axis=1)\n",
        "test_scores_std = np.std(test_scores, axis=1)\n",
        "\n",
        "plt.title(\"Validation Curve with SVM\")\n",
        "plt.xlabel(\"$gamma$\")\n",
        "plt.ylabel(\"Score\")\n",
        "plt.ylim(0.0, 1.1)\n",
        "lw = 2\n",
        "plt.semilogx(param_range, train_scores_mean, label=\"Training score\",\n",
        "             color=\"darkorange\", lw=lw)\n",
        "plt.fill_between(param_range, train_scores_mean - train_scores_std,\n",
        "                 train_scores_mean + train_scores_std, alpha=0.2,\n",
        "                 color=\"darkorange\", lw=lw)\n",
        "plt.semilogx(param_range, test_scores_mean, label=\"Cross-validation score\",\n",
        "             color=\"navy\", lw=lw)\n",
        "plt.fill_between(param_range, test_scores_mean - test_scores_std,\n",
        "                 test_scores_mean + test_scores_std, alpha=0.2,\n",
        "                 color=\"navy\", lw=lw)\n",
        "plt.legend(loc=\"best\")\n",
        "plt.show()"
      ],
      "execution_count": null,
      "outputs": [
        {
          "output_type": "display_data",
          "data": {
            "image/png": "[encoded data removed]",
            "text/plain": [
              "<Figure size 432x288 with 1 Axes>"
            ]
          },
          "metadata": {
            "tags": []
          }
        }
      ]
    },
    {
      "cell_type": "code",
      "metadata": {
        "id": "VVHWgJBhSpnx",
        "colab": {
          "base_uri": "https://localhost:8080/",
          "height": 269
        },
        "outputId": "59e0d171-c2b2-4987-83f1-b142eb38f16a"
      },
      "source": [
        "\n",
        "print(svc.predict(x_test))\n",
        "print('onznpofjhzapohfpozah')\n",
        "print(y_test - svc.predict(x_test))"
      ],
      "execution_count": null,
      "outputs": [
        {
          "output_type": "stream",
          "text": [
            "[3 3 1 4 2 4 2 2 3 3 4 1 3 1 3 3 3 2 2 1 2 1 3 1 2 0 2 1 1 1 3 1 4 1 1 4 4\n",
            " 3 2 2 3 1 3 3 1 4 1 3 0 2 4 4 3 2 1 1 3 3 3 2 1 3 1 4 1 4 3 2 3 3 3 2 2 1\n",
            " 1 4 1 3 0 2 2 1 3 2 4 1 2 3 1 4 2 1 1 3 1 1 1 1 3 4 2 2 2 2 3 2 1 1 1 2 1\n",
            " 4 2 3 1 0 1 4 1 2 1 1 1 4 4 2 1 1 1 4 0 2 4 2 1 2 4 2 1 1 1 3 4 2 1 1 4 3\n",
            " 1 2 1 2 1 1 4 2 3 1 2 1 2 2 2 4 3 0 1 3 1 3 2 1 2 1 2]\n",
            "onznpofjhzapohfpozah\n",
            "[-1  0  0  0  0  0  0  0  0  0  0  0  0  0  0  0  0  0  2  0  0  0 -1  0\n",
            "  1  0  0  0  0  0 -1  2 -1  0  0 -1  0  0  0  0 -3  0  0  0  0 -4  3  0\n",
            "  0  2  0  0  0  0  0  0  0  0  0  1  3 -1  0  0  0 -1  0 -2  0  0  0  0\n",
            "  0  0  0  0  0  0  0  0  0  2  0  0  0  0  0  0  0  0 -2  0  0  0  0  0\n",
            "  0  0  0  0  0  0  0  0  0  0  0  0  0  0  0  0  0  0  0  0  0  0  0  0\n",
            "  0  0  0  0  0  0  0  0 -1  0  0  0  0  0  0  0 -3  0  3  0  0  0  0  0\n",
            "  0  0  0  0  0  0  0  0  0  0  0  0  0  0  0 -1  0  0  0  0  0  0  0  0\n",
            "  0  0  0  0  0  0  0]\n"
          ],
          "name": "stdout"
        }
      ]
    },
    {
      "cell_type": "code",
      "metadata": {
        "id": "U4YlV86TThiP",
        "colab": {
          "base_uri": "https://localhost:8080/",
          "height": 53
        },
        "outputId": "35b140a8-f986-4869-aafa-0b96839b5ef3"
      },
      "source": [
        "svc = svm.SVC().fit(x_train, y_train)\n",
        "parameters = {'kernel':('linear', 'rbf'), 'C':[1, 10], 'gamma': np.logspace(-6,-1,5)}\n",
        "\n",
        "validator = GridSearchCV(svc,\n",
        "                         parameters, cv = 5)\n",
        "validator.fit(x_train, y_train)\n",
        "print('The parameters of the best model are: ')\n",
        "print(validator.best_params_)\n",
        "\n",
        "\n",
        "\n",
        "\n",
        "param_range = np.logspace(-6,-1,5)\n",
        "train_scores, test_scores = validation_curve(svc, x_train, y_train, param_name=\"gamma\", param_range=param_range, cv=5, scoring=\"accuracy\", n_jobs=1)"
      ],
      "execution_count": null,
      "outputs": [
        {
          "output_type": "stream",
          "text": [
            "The parameters of the best model are: \n",
            "{'C': 10, 'gamma': 0.005623413251903491, 'kernel': 'rbf'}\n"
          ],
          "name": "stdout"
        }
      ]
    },
    {
      "cell_type": "code",
      "metadata": {
        "id": "H731mFUfUj_d",
        "colab": {
          "base_uri": "https://localhost:8080/",
          "height": 301
        },
        "outputId": "d0b6f5b3-df4a-464b-8fca-a6b1b54103d0"
      },
      "source": [
        "train_scores_mean = np.mean(train_scores, axis=1)\n",
        "train_scores_std = np.std(train_scores, axis=1)\n",
        "test_scores_mean = np.mean(test_scores, axis=1)\n",
        "test_scores_std = np.std(test_scores, axis=1)\n",
        "\n",
        "plt.title(\"Validation Curve with SVM\")\n",
        "plt.xlabel(\"$gamma$\")\n",
        "plt.ylabel(\"Score\")\n",
        "plt.ylim(0.0, 1.1)\n",
        "lw = 2\n",
        "plt.semilogx(param_range, train_scores_mean, label=\"Training score\",\n",
        "             color=\"darkorange\", lw=lw)\n",
        "plt.fill_between(param_range, train_scores_mean - train_scores_std,\n",
        "                 train_scores_mean + train_scores_std, alpha=0.2,\n",
        "                 color=\"darkorange\", lw=lw)\n",
        "plt.semilogx(param_range, test_scores_mean, label=\"Cross-validation score\",\n",
        "             color=\"navy\", lw=lw)\n",
        "plt.fill_between(param_range, test_scores_mean - test_scores_std,\n",
        "                 test_scores_mean + test_scores_std, alpha=0.2,\n",
        "                 color=\"navy\", lw=lw)\n",
        "plt.legend(loc=\"best\")\n",
        "plt.show()"
      ],
      "execution_count": null,
      "outputs": [
        {
          "output_type": "display_data",
          "data": {
            "image/png": "[encoded data removed]",
            "text/plain": [
              "<Figure size 432x288 with 1 Axes>"
            ]
          },
          "metadata": {
            "tags": []
          }
        }
      ]
    },
    {
      "cell_type": "code",
      "metadata": {
        "id": "sZOR34UKILDC",
        "colab": {
          "base_uri": "https://localhost:8080/",
          "height": 269
        },
        "outputId": "6bc9b66c-27b1-4316-baa0-9fc46d65c27b"
      },
      "source": [
        "print(svc.predict(x_test))\n",
        "print('Resultat')\n",
        "print(y_test - svc.predict(x_test))\n",
        "#33446\n"
      ],
      "execution_count": null,
      "outputs": [
        {
          "output_type": "stream",
          "text": [
            "[3 3 1 4 2 4 2 2 3 3 4 1 3 1 3 3 3 2 2 1 2 1 3 1 2 0 2 1 1 1 3 1 4 1 1 4 4\n",
            " 3 2 2 3 1 3 3 1 4 1 3 0 2 4 4 3 2 1 1 3 3 3 2 1 3 1 4 1 4 3 2 3 3 3 2 2 1\n",
            " 1 4 1 3 0 2 2 1 3 2 4 1 2 3 1 4 2 1 1 3 1 1 1 1 3 4 2 2 2 2 3 2 1 1 1 2 1\n",
            " 4 2 3 1 0 1 4 1 2 1 1 1 4 4 2 1 1 1 4 0 2 4 2 1 2 4 2 1 1 1 3 4 2 1 1 4 3\n",
            " 1 2 1 2 1 1 4 2 3 1 2 1 2 2 2 4 3 0 1 3 1 3 2 1 2 1 2]\n",
            "Resultat\n",
            "[-1  0  0  0  0  0  0  0  0  0  0  0  0  0  0  0  0  0  2  0  0  0 -1  0\n",
            "  1  0  0  0  0  0 -1  2 -1  0  0 -1  0  0  0  0 -3  0  0  0  0 -4  3  0\n",
            "  0  2  0  0  0  0  0  0  0  0  0  1  3 -1  0  0  0 -1  0 -2  0  0  0  0\n",
            "  0  0  0  0  0  0  0  0  0  2  0  0  0  0  0  0  0  0 -2  0  0  0  0  0\n",
            "  0  0  0  0  0  0  0  0  0  0  0  0  0  0  0  0  0  0  0  0  0  0  0  0\n",
            "  0  0  0  0  0  0  0  0 -1  0  0  0  0  0  0  0 -3  0  3  0  0  0  0  0\n",
            "  0  0  0  0  0  0  0  0  0  0  0  0  0  0  0 -1  0  0  0  0  0  0  0  0\n",
            "  0  0  0  0  0  0  0]\n"
          ],
          "name": "stdout"
        }
      ]
    },
    {
      "cell_type": "code",
      "metadata": {
        "id": "utF8J9bzk2MB",
        "colab": {
          "base_uri": "https://localhost:8080/",
          "height": 53
        },
        "outputId": "37622ec6-20fc-4de6-8ef4-18491f55a1c5"
      },
      "source": [
        "imfile = folder + '33526'+formatimage\n",
        "print(imfile)\n",
        "im = cv2.imread(imfile, 0)\n",
        "Xf = []\n",
        "im = im/ 255.\n",
        "arr = np.array(im)\n",
        "flat = arr.ravel()\n",
        "vector = np.matrix(flat)\n",
        "if size(flat) < s0:\n",
        "  A = np.zeros(s0 - size(flat))\n",
        "  flat = np.append(flat, A.ravel())\n",
        "if s0 < size(flat):\n",
        "  flat = flat[:s0]\n",
        "Xf.append(flat)\n",
        "print(svc.predict(Xf))"
      ],
      "execution_count": null,
      "outputs": [
        {
          "output_type": "stream",
          "text": [
            "/content/Seuillage/33526.jpg\n",
            "[3]\n"
          ],
          "name": "stdout"
        }
      ]
    }
  ]
}